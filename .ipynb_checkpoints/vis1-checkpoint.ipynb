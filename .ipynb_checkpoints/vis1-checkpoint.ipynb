{
 "cells": [
  {
   "cell_type": "code",
   "execution_count": 3,
   "metadata": {},
   "outputs": [],
   "source": [
    "import numpy as np\n",
    "import pandas as pd\n",
    "import matplotlib.pyplot as plt\n",
    "import seaborn as sns\n",
    "import plotly.graph_objs as go\n",
    "import plotly.express as px\n",
    "from sklearn.feature_selection import mutual_info_regression\n",
    "%matplotlib inline\n",
    "import io"
   ]
  },
  {
   "cell_type": "code",
   "execution_count": 45,
   "metadata": {},
   "outputs": [],
   "source": [
    "df = pd.read_csv('data/cleaned_ca.csv')\n",
    "p_df_75 = pd.read_csv(io.StringIO(pd.read_csv('data/principal_component_df.csv').to_csv(index=False)), index_col=0)\n",
    "p_df_100 = pd.read_csv(io.StringIO(pd.read_csv('data/principal_component_df100.csv').to_csv(index=False)), index_col=0)\n",
    "X = pd.read_csv('data/X.csv')\n",
    "y = pd.read_csv('data/y.csv')"
   ]
  },
  {
   "cell_type": "code",
   "execution_count": 46,
   "metadata": {},
   "outputs": [],
   "source": [
    "X_com = pd.concat([X,y], axis=1)"
   ]
  },
  {
   "cell_type": "markdown",
   "metadata": {},
   "source": [
    "## Investigate social group #1 Quebec"
   ]
  },
  {
   "cell_type": "code",
   "execution_count": 47,
   "metadata": {},
   "outputs": [
    {
     "data": {
      "image/png": "[encoded data removed]",
      "text/plain": [
       "<Figure size 864x360 with 2 Axes>"
      ]
     },
     "metadata": {
      "needs_background": "light"
     },
     "output_type": "display_data"
    }
   ],
   "source": [
    "fig, ax = plt.subplots(1,2, figsize=(12,5))\n",
    "box1 = sns.boxplot(x=\"DEM_LOCATION\", y=\"DEM_AGE\", hue=\"NMU\", data=X_com, ax=ax[0])\n",
    "#box2 = sns.boxplot(x=\"DRSHOP_NMU\", y=\"DEM_AGE\", hue=\"DEM_ABOR\", data=df, ax=ax[1])"
   ]
  },
  {
   "cell_type": "code",
   "execution_count": 48,
   "metadata": {},
   "outputs": [
    {
     "name": "stdout",
     "output_type": "stream",
     "text": [
      "Percentage of LOCATION_0 NMU:  nan\n",
      "Percentage of LOCATION_1 NMU:  0.18803418803418803\n",
      "Percentage of LOCATION_2 NMU:  0.2662337662337662\n",
      "Percentage of LOCATION_3 NMU:  0.2857142857142857\n",
      "Percentage of LOCATION_4 NMU:  0.2617801047120419\n",
      "Percentage of LOCATION_5 NMU:  0.43049443437742685\n",
      "Percentage of LOCATION_6 NMU:  0.2681660899653979\n",
      "Percentage of LOCATION_7 NMU:  0.2691292875989446\n",
      "Percentage of LOCATION_8 NMU:  0.24567474048442905\n",
      "Percentage of LOCATION_9 NMU:  0.30716723549488056\n",
      "Percentage of LOCATION_10 NMU:  0.2862566438876234\n",
      "Percentage of LOCATION_11 NMU:  nan\n",
      "Percentage of LOCATION_12 NMU:  0.0\n"
     ]
    }
   ],
   "source": [
    "# Is DRSHOP_NMU a good response variable?\n",
    "NMU_dist_by_loc = []\n",
    "for i in range(13):\n",
    "    NMU_dist_by_loc.append(X_com[X_com['DEM_LOCATION']==i].NMU.mean())\n",
    "    print(\"Percentage of LOCATION_\"+str(i)+\" NMU:  \"+str(NMU_dist_by_loc[i]))\n",
    "NMU_dist_by_loc = pd.DataFrame(NMU_dist_by_loc).fillna(0)"
   ]
  },
  {
   "cell_type": "code",
   "execution_count": 49,
   "metadata": {},
   "outputs": [
    {
     "ename": "NameError",
     "evalue": "name 'index' is not defined",
     "output_type": "error",
     "traceback": [
      "\u001b[1;31m---------------------------------------------------------------------------\u001b[0m",
      "\u001b[1;31mNameError\u001b[0m                                 Traceback (most recent call last)",
      "\u001b[1;32m<ipython-input-49-a0cbf8941004>\u001b[0m in \u001b[0;36m<module>\u001b[1;34m\u001b[0m\n\u001b[1;32m----> 1\u001b[1;33m \u001b[0mnmu_dist_loc\u001b[0m \u001b[1;33m=\u001b[0m \u001b[0msns\u001b[0m\u001b[1;33m.\u001b[0m\u001b[0mbarplot\u001b[0m\u001b[1;33m(\u001b[0m\u001b[0mx\u001b[0m\u001b[1;33m=\u001b[0m\u001b[0mindex\u001b[0m\u001b[1;33m,\u001b[0m\u001b[0my\u001b[0m\u001b[1;33m=\u001b[0m\u001b[0mNMU_dist_by_loc\u001b[0m\u001b[1;33m[\u001b[0m\u001b[1;36m0\u001b[0m\u001b[1;33m]\u001b[0m\u001b[1;33m,\u001b[0m\u001b[0mdata\u001b[0m\u001b[1;33m=\u001b[0m\u001b[0mNMU_dist_by_loc\u001b[0m\u001b[1;33m)\u001b[0m\u001b[1;33m\u001b[0m\u001b[1;33m\u001b[0m\u001b[0m\n\u001b[0m",
      "\u001b[1;31mNameError\u001b[0m: name 'index' is not defined"
     ]
    }
   ],
   "source": [
    "nmu_dist_loc = sns.barplot(x=index,y=NMU_dist_by_loc[0],data=NMU_dist_by_loc)"
   ]
  },
  {
   "cell_type": "code",
   "execution_count": 50,
   "metadata": {},
   "outputs": [
    {
     "data": {
      "text/html": [
       "<div>\n",
       "<style scoped>\n",
       "    .dataframe tbody tr th:only-of-type {\n",
       "        vertical-align: middle;\n",
       "    }\n",
       "\n",
       "    .dataframe tbody tr th {\n",
       "        vertical-align: top;\n",
       "    }\n",
       "\n",
       "    .dataframe thead th {\n",
       "        text-align: right;\n",
       "    }\n",
       "</style>\n",
       "<table border=\"1\" class=\"dataframe\">\n",
       "  <thead>\n",
       "    <tr style=\"text-align: right;\">\n",
       "      <th></th>\n",
       "      <th>0</th>\n",
       "    </tr>\n",
       "  </thead>\n",
       "  <tbody>\n",
       "    <tr>\n",
       "      <th>0</th>\n",
       "      <td>0.000000</td>\n",
       "    </tr>\n",
       "    <tr>\n",
       "      <th>1</th>\n",
       "      <td>0.188034</td>\n",
       "    </tr>\n",
       "    <tr>\n",
       "      <th>2</th>\n",
       "      <td>0.266234</td>\n",
       "    </tr>\n",
       "    <tr>\n",
       "      <th>3</th>\n",
       "      <td>0.285714</td>\n",
       "    </tr>\n",
       "    <tr>\n",
       "      <th>4</th>\n",
       "      <td>0.261780</td>\n",
       "    </tr>\n",
       "    <tr>\n",
       "      <th>5</th>\n",
       "      <td>0.430494</td>\n",
       "    </tr>\n",
       "    <tr>\n",
       "      <th>6</th>\n",
       "      <td>0.268166</td>\n",
       "    </tr>\n",
       "    <tr>\n",
       "      <th>7</th>\n",
       "      <td>0.269129</td>\n",
       "    </tr>\n",
       "    <tr>\n",
       "      <th>8</th>\n",
       "      <td>0.245675</td>\n",
       "    </tr>\n",
       "    <tr>\n",
       "      <th>9</th>\n",
       "      <td>0.307167</td>\n",
       "    </tr>\n",
       "    <tr>\n",
       "      <th>10</th>\n",
       "      <td>0.286257</td>\n",
       "    </tr>\n",
       "    <tr>\n",
       "      <th>11</th>\n",
       "      <td>0.000000</td>\n",
       "    </tr>\n",
       "    <tr>\n",
       "      <th>12</th>\n",
       "      <td>0.000000</td>\n",
       "    </tr>\n",
       "  </tbody>\n",
       "</table>\n",
       "</div>"
      ],
      "text/plain": [
       "           0\n",
       "0   0.000000\n",
       "1   0.188034\n",
       "2   0.266234\n",
       "3   0.285714\n",
       "4   0.261780\n",
       "5   0.430494\n",
       "6   0.268166\n",
       "7   0.269129\n",
       "8   0.245675\n",
       "9   0.307167\n",
       "10  0.286257\n",
       "11  0.000000\n",
       "12  0.000000"
      ]
     },
     "execution_count": 50,
     "metadata": {},
     "output_type": "execute_result"
    }
   ],
   "source": [
    "NMU_dist_by_loc"
   ]
  },
  {
   "cell_type": "code",
   "execution_count": 51,
   "metadata": {},
   "outputs": [],
   "source": [
    "\n",
    "location_str = {1:\"Newfoundland and Labrador\", 2:\"Nova Scotia\", 3:\"Prince Edward Island\", 4:\"New Brunswick\", 5:\"Quebec\", 6:\"Ontario\",\n",
    "                7:\"Manitoba\", 8:\"Saskatchewan\", 9:\"Alberta\", 10:\"British Columbia\", 11:\"Yukon\", 12:\"Nunavut\",13:\"Northwest Territories\"}\n",
    "X_com.DEM_LOCATION = X_com.DEM_LOCATION.replace(location_str)"
   ]
  },
  {
   "cell_type": "code",
   "execution_count": 65,
   "metadata": {},
   "outputs": [
    {
     "data": {
      "text/plain": [
       "1"
      ]
     },
     "execution_count": 65,
     "metadata": {},
     "output_type": "execute_result"
    }
   ],
   "source": [
    "X_com.DEM_POSTAL\n",
    "#X_com = pd.concat([X_com, df.DEM_POSTAL], axis=1)\n",
    "X_com.DEM_POSTAL[X_com.DEM_POSTAL == 'J0y'].count()"
   ]
  },
  {
   "cell_type": "code",
   "execution_count": 59,
   "metadata": {},
   "outputs": [],
   "source": [
    "X_com.to_csv('data/X_combined.csv')"
   ]
  },
  {
   "cell_type": "code",
   "execution_count": 77,
   "metadata": {},
   "outputs": [
    {
     "name": "stderr",
     "output_type": "stream",
     "text": [
      "<ipython-input-77-3025884f2c3f>:1: UserWarning: Boolean Series key will be reindexed to match DataFrame index.\n",
      "  test = X_com[X_com['DEM_EDU']== 5][X_com['CAN_USE']>0]\n"
     ]
    },
    {
     "data": {
      "text/plain": [
       "750"
      ]
     },
     "execution_count": 77,
     "metadata": {},
     "output_type": "execute_result"
    }
   ],
   "source": [
    "test = X_com[X_com['DEM_EDU']== 5][X_com['CAN_USE']>0]\n",
    "len(test)"
   ]
  },
  {
   "cell_type": "code",
   "execution_count": 79,
   "metadata": {},
   "outputs": [
    {
     "name": "stdout",
     "output_type": "stream",
     "text": [
      "Percentage of NMU among OP_USE:  0.41404421326397917\n"
     ]
    }
   ],
   "source": [
    "op_df = (X_com[X_com['OP_USE']== 1])\n",
    "print(\"Percentage of NMU among OP_USE:  \"+str(op_df['NMU'].mean()))"
   ]
  },
  {
   "cell_type": "code",
   "execution_count": 78,
   "metadata": {},
   "outputs": [
    {
     "name": "stdout",
     "output_type": "stream",
     "text": [
      "284\n"
     ]
    },
    {
     "name": "stderr",
     "output_type": "stream",
     "text": [
      "<ipython-input-78-f70e1f41076d>:1: UserWarning: Boolean Series key will be reindexed to match DataFrame index.\n",
      "  test = X_com[X_com['DEM_EDU']== 5][X_com['ILL_USE']>0]\n"
     ]
    },
    {
     "data": {
      "text/plain": [
       "750"
      ]
     },
     "execution_count": 78,
     "metadata": {},
     "output_type": "execute_result"
    }
   ],
   "source": [
    "test = X_com[X_com['DEM_EDU']== 5][X_com['ILL_USE']>0]\n",
    "print(len(test))\n",
    "len(X_com[X_com['DEM_EDU']== 5])\n"
   ]
  },
  {
   "cell_type": "markdown",
   "metadata": {},
   "source": [
    "[source](https://gis.stackexchange.com/questions/199288/python-color-canadian-provinces-in-a-shapefile-based-on-given-values)"
   ]
  }
 ],
 "metadata": {
  "kernelspec": {
   "display_name": "Python 3",
   "language": "python",
   "name": "python3"
  },
  "language_info": {
   "codemirror_mode": {
    "name": "ipython",
    "version": 3
   },
   "file_extension": ".py",
   "mimetype": "text/x-python",
   "name": "python",
   "nbconvert_exporter": "python",
   "pygments_lexer": "ipython3",
   "version": "3.8.5"
  }
 },
 "nbformat": 4,
 "nbformat_minor": 4
}
